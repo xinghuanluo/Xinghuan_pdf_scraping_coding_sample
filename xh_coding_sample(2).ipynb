{
 "cells": [
  {
   "cell_type": "markdown",
   "metadata": {},
   "source": [
    "# Xinghuan_Pdfplumber_Coding_Sample(2)"
   ]
  },
  {
   "cell_type": "markdown",
   "metadata": {},
   "source": [
    "In this coding sample, I try to get the text after each bullet point in the page 20 of the paper \"Weisbuch_2005_Persuation_dynamics.pdf\". "
   ]
  },
  {
   "cell_type": "code",
   "execution_count": 76,
   "metadata": {},
   "outputs": [
    {
     "data": {
      "image/png": "[encoded data removed]",
      "text/plain": [
       "<pdfplumber.display.PageImage at 0x16b5fa91bc8>"
      ]
     },
     "execution_count": 76,
     "metadata": {},
     "output_type": "execute_result"
    }
   ],
   "source": [
    "# I imported necessary package here\n",
    "import pdfplumber \n",
    "import pandas as pd \n",
    "import os\n",
    "\n",
    "\n",
    "path_practice = os.path.join(os.getcwd(), 'Weisbuch_2005_Persuation_dynamics.pdf')\n",
    "pdf_prac = pdfplumber.open(path_practice)\n",
    "p20 = pdf_prac.pages[19]\n",
    "p20_text = p20.extract_text()\n",
    "im = p20.to_image()\n",
    "im # Below picture is the page 20 of the paper. "
   ]
  },
  {
   "cell_type": "code",
   "execution_count": 77,
   "metadata": {
    "scrolled": true
   },
   "outputs": [
    {
     "data": {
      "text/plain": [
       "'ARTICLE IN PRESS\\n574 G.Weisbuchetal./PhysicaA353(2005)555–575\\nRestricting possible interactions to a network structure noticeably changes the\\ndynamics:\\n(cid:1) The eventual inﬂuence of extremists is screened due to spatial effects.\\n(cid:1) Hillconﬁgurationsallowthespreadingofthisinﬂuenceacrossthewholenetwork.\\n(cid:1) Larger extremist densities result in collisions between meso-scale structures.\\nAgeneralconclusionisthatsocialnetworkscanlimitthepropagationofextremism.\\nMajor differences with the well-mixed topology are:\\n(cid:1) Single extremism is only observed when extremists are few, and when initial\\ncentrist tolerance is below 0.5; as opposed to the well mixed case where it occurs\\neven at moderate densities above 0.5.\\n(cid:1) Attractorswithcentristopinionandlowertoleranceareobservedwithprobability\\nclose tooneinawelldeﬁnedlowdensityhightoleranceregion,asopposedtothe\\nwell mixed case where they occur with a limited probability as the negative\\noutcome of some instability.\\n(cid:1) Single sided extremism is favoured by scale-free networks. Even our preliminary\\nresults allow to understand why extremists (or market strategists) should ﬁrst\\nconvince leader ﬁgures to establish their inﬂuence on a social network.\\nAt this stage,we might try togeneralize some of thepredictionsof themodel. As\\nwesaidinourintroduction,onecanmodeltheinﬂuenceofaminorityofagentswith\\nstrongviewsbasedeitheronknowledgeorvestedinterests.Wethusstartfrominitial\\nrandom distribution of agents’ opinion plus a few agents concentrated in initial\\nopinion with much lower tolerance. These low tolerance agents do not necessarily\\nhave extreme opinions. But most of our qualitative conclusions apply:\\n(cid:1) The spread of the minority agents opinion and tolerance is favoured by the large\\ntoleranceofagentswhichwereinitiallycentrists.Themostimportantpredictorof\\nthe outcome of the dynamics is the comparison between the tolerance of the\\nmajority with the difference between the minority opinion and the average\\nmajority opinion. If the tolerance of the majority is larger, minority opinion can\\nspread, otherwise it will most probably not spread.\\n(cid:1) The eventual inﬂuence of the minority agents is screened due to spatial effects.\\n(cid:1) Minority chances to spread depend upon the development of meso scale features\\nsuch as hills.\\nAcknowledgements\\nWe acknowledge partial support from the FET-IST grant of the EC IST 2001-\\n33555 COSIN. The present work was completed at the Institute for Scientiﬁc\\nInterchange, Torino, which we thank for its hospitality.'"
      ]
     },
     "execution_count": 77,
     "metadata": {},
     "output_type": "execute_result"
    }
   ],
   "source": [
    "p20_text # Below paragraph of text is the text in page 20. There are 9 bullet points totally. \n",
    "         #As we can see, each bullet point starts with \\n(cid:1) and ends with .\\n"
   ]
  },
  {
   "cell_type": "code",
   "execution_count": 78,
   "metadata": {},
   "outputs": [
    {
     "data": {
      "text/html": [
       "<div>\n",
       "<style scoped>\n",
       "    .dataframe tbody tr th:only-of-type {\n",
       "        vertical-align: middle;\n",
       "    }\n",
       "\n",
       "    .dataframe tbody tr th {\n",
       "        vertical-align: top;\n",
       "    }\n",
       "\n",
       "    .dataframe thead th {\n",
       "        text-align: right;\n",
       "    }\n",
       "</style>\n",
       "<table border=\"1\" class=\"dataframe\">\n",
       "  <thead>\n",
       "    <tr style=\"text-align: right;\">\n",
       "      <th></th>\n",
       "      <th>page</th>\n",
       "      <th>text after bullet point</th>\n",
       "    </tr>\n",
       "  </thead>\n",
       "  <tbody>\n",
       "    <tr>\n",
       "      <th>0</th>\n",
       "      <td>20</td>\n",
       "      <td>The eventual inﬂuence of extremists is screen...</td>\n",
       "    </tr>\n",
       "    <tr>\n",
       "      <th>1</th>\n",
       "      <td>20</td>\n",
       "      <td>Hillconﬁgurationsallowthespreadingofthisinﬂuen...</td>\n",
       "    </tr>\n",
       "    <tr>\n",
       "      <th>2</th>\n",
       "      <td>20</td>\n",
       "      <td>Larger extremist densities result in collision...</td>\n",
       "    </tr>\n",
       "    <tr>\n",
       "      <th>3</th>\n",
       "      <td>20</td>\n",
       "      <td>Single extremism is only observed when extrem...</td>\n",
       "    </tr>\n",
       "    <tr>\n",
       "      <th>4</th>\n",
       "      <td>20</td>\n",
       "      <td>Attractorswithcentristopinionandlowertolerance...</td>\n",
       "    </tr>\n",
       "    <tr>\n",
       "      <th>5</th>\n",
       "      <td>20</td>\n",
       "      <td>Single sided extremism is favoured by scale-fr...</td>\n",
       "    </tr>\n",
       "    <tr>\n",
       "      <th>6</th>\n",
       "      <td>20</td>\n",
       "      <td>The spread of the minority agents opinion and...</td>\n",
       "    </tr>\n",
       "    <tr>\n",
       "      <th>7</th>\n",
       "      <td>20</td>\n",
       "      <td>The eventual inﬂuence of the minority agents i...</td>\n",
       "    </tr>\n",
       "    <tr>\n",
       "      <th>8</th>\n",
       "      <td>20</td>\n",
       "      <td>Minority chances to spread depend upon the dev...</td>\n",
       "    </tr>\n",
       "  </tbody>\n",
       "</table>\n",
       "</div>"
      ],
      "text/plain": [
       "  page                            text after bullet point\n",
       "0   20   The eventual inﬂuence of extremists is screen...\n",
       "1   20  Hillconﬁgurationsallowthespreadingofthisinﬂuen...\n",
       "2   20  Larger extremist densities result in collision...\n",
       "3   20   Single extremism is only observed when extrem...\n",
       "4   20  Attractorswithcentristopinionandlowertolerance...\n",
       "5   20  Single sided extremism is favoured by scale-fr...\n",
       "6   20   The spread of the minority agents opinion and...\n",
       "7   20  The eventual inﬂuence of the minority agents i...\n",
       "8   20  Minority chances to spread depend upon the dev..."
      ]
     },
     "execution_count": 78,
     "metadata": {},
     "output_type": "execute_result"
    }
   ],
   "source": [
    "# I will use begin and end as the parser to get the text I wanted and save them to df_bullet dataframe. \n",
    "begin = '\\n(cid:1)'\n",
    "end = '.\\n'\n",
    "output = []\n",
    "column_names = ['page', 'text after bullet point']\n",
    "df_bullet = pd.DataFrame(columns = column_names)\n",
    "\n",
    "\n",
    "def find_between( s, first, last ):\n",
    "    \"\"\"This function is used to find the text between the begin and the end of each bullet point. \n",
    "       In this page, there are 3 groups of bullet points. This function can only find the first group. \n",
    "       I need to use the second function to loop over this page to find the rest of them. \"\"\"\n",
    "    s_backup = s[s.find(first): ]\n",
    "    try: \n",
    "        while s_backup[s_backup.find(last) + len(last)] == '(': # This line is to check if the \"begin\" ends with \"(\". \n",
    "            s_backup = s_backup[s_backup.find(last) + len(last): ] \n",
    "        correct = last + s_backup[s_backup.find(last) + len(last)] # Correct means the last character of each group of bullet points. \n",
    "        adding_element = s[s.find(first): s.find(correct)].strip(begin)\n",
    "        # After fixing the begning and the end of each group of bullet points, I get the text between them and get rid of the unnecessary characters. \n",
    "        element_list = adding_element.split('\\n(cid:1) ')\n",
    "        element_list = [element.replace('\\n', ' ') for element in element_list]\n",
    "        for element in element_list:\n",
    "            if element not in output: \n",
    "                output.append(element)\n",
    "        return s[s.find(first): s.find(correct) + len(correct) - 1]  \n",
    "    except IndexError: \n",
    "        pass\n",
    "    \n",
    "def loop_page(page, first, last, page_num): \n",
    "    \"\"\"I use this function to loop the first function in whole page and save the result to df_bullet dataframe.\"\"\"\n",
    "    page_bc = page\n",
    "    while type(find_between(page_bc, first, last)) != type(None): \n",
    "        page_bc = page_bc.replace(find_between(page_bc, first, last), '')\n",
    "    df_output = pd.DataFrame(columns = column_names)\n",
    "    df_output['text after bullet point'] = output\n",
    "    df_output['page'] = page_num\n",
    "    global df_bullet\n",
    "    df_bullet = df_bullet.append(df_output, ignore_index = True)\n",
    "\n",
    "loop_page(p20_text,begin, end, 20)\n",
    "df_bullet"
   ]
  }
 ],
 "metadata": {
  "kernelspec": {
   "display_name": "Python 3",
   "language": "python",
   "name": "python3"
  },
  "language_info": {
   "codemirror_mode": {
    "name": "ipython",
    "version": 3
   },
   "file_extension": ".py",
   "mimetype": "text/x-python",
   "name": "python",
   "nbconvert_exporter": "python",
   "pygments_lexer": "ipython3",
   "version": "3.7.6"
  }
 },
 "nbformat": 4,
 "nbformat_minor": 4
}
